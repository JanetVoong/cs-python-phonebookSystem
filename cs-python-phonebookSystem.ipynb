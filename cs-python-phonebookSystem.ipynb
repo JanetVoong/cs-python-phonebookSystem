{
 "cells": [
  {
   "cell_type": "code",
   "execution_count": null,
   "metadata": {},
   "outputs": [],
   "source": [
    "#Create a Telephone Directory program which allows the user to enter as many entries as they like until they want to stop. Each entry should contain a first name, last name and a telephone number.\n",
    "\n",
    "#The telephone number should be 11 digits long, if the input for telephone number is not 11 digits long, ask the user to input the telephone number again.\n",
    "\n",
    "#You will need to do this using 2D arrays."
   ]
  },
  {
   "cell_type": "code",
   "execution_count": null,
   "metadata": {},
   "outputs": [],
   "source": [
    "#creating an empty list\n",
    "\n",
    "myList = []"
   ]
  },
  {
   "cell_type": "code",
   "execution_count": null,
   "metadata": {},
   "outputs": [],
   "source": [
    "#adding items to a list\n",
    "\n",
    "myList.append(\"Computer Science\", \"Physics\", \"Mathematics\")"
   ]
  },
  {
   "cell_type": "code",
   "execution_count": null,
   "metadata": {},
   "outputs": [],
   "source": [
    "#adding a list to a list\n",
    "\n",
    "myList.append([\"Science\", \"Computer\"])"
   ]
  },
  {
   "cell_type": "code",
   "execution_count": null,
   "metadata": {},
   "outputs": [],
   "source": [
    "#handling exceptions\n",
    "#if user inputs string, user should be asked to try again\n",
    "while True:\n",
    "    try:\n",
    "        entryNo = int(input(\"Please enter the telephone number of your entry\"))\n",
    "        break\n",
    "        except ValueError:\n",
    "            print(\"That is not a valid number, please try again\")"
   ]
  }
 ],
 "metadata": {
  "kernelspec": {
   "display_name": "Python 3",
   "language": "python",
   "name": "python3"
  },
  "language_info": {
   "codemirror_mode": {
    "name": "ipython",
    "version": 3
   },
   "file_extension": ".py",
   "mimetype": "text/x-python",
   "name": "python",
   "nbconvert_exporter": "python",
   "pygments_lexer": "ipython3",
   "version": "3.5.2"
  }
 },
 "nbformat": 4,
 "nbformat_minor": 2
}
